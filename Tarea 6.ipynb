{
 "cells": [
  {
   "cell_type": "code",
   "execution_count": 2,
   "id": "e8c35047",
   "metadata": {},
   "outputs": [],
   "source": [
    "import os\n",
    "fname = os.path.join(\"jena_climate_2009_2016.csv\")\n",
    "with open(fname) as f:\n",
    "    data = f.read()\n"
   ]
  },
  {
   "cell_type": "code",
   "execution_count": 3,
   "id": "95f96bc1",
   "metadata": {},
   "outputs": [
    {
     "name": "stdout",
     "output_type": "stream",
     "text": [
      "['\"Date Time\"', '\"p (mbar)\"', '\"T (degC)\"', '\"Tpot (K)\"', '\"Tdew (degC)\"', '\"rh (%)\"', '\"VPmax (mbar)\"', '\"VPact (mbar)\"', '\"VPdef (mbar)\"', '\"sh (g/kg)\"', '\"H2OC (mmol/mol)\"', '\"rho (g/m**3)\"', '\"wv (m/s)\"', '\"max. wv (m/s)\"', '\"wd (deg)\"']\n",
      "420451\n"
     ]
    }
   ],
   "source": [
    "#Todos los datos están juntos, los saltos de linea están representados por \"\\n\", entonces construye un vector con comas en aquellos saltos de lineas\n",
    "lines = data.split(\"\\n\")\n",
    "#Header es la linea 0, separa a los objetos de esa linea por comas\n",
    "header = lines[0].split(\",\")\n",
    "\n",
    "#Lo siguiente considera a todas las lineas menos a la primera (el encabezado)\n",
    "lines = lines[1:]\n",
    "\n",
    "#Imprime todos los encabezados\n",
    "print(header)\n",
    "\n",
    "#Número de datos de cada tipo\n",
    "print(len(lines))"
   ]
  },
  {
   "cell_type": "code",
   "execution_count": 4,
   "id": "fd06500a",
   "metadata": {},
   "outputs": [],
   "source": [
    "import numpy as np\n",
    "\n",
    "#Se crea una matriz de ceros del mismo tamaño de todas las lineas de la tabla (tabla linesX1) para guardar las temperaturas\n",
    "temperature = np.zeros((len(lines),))\n",
    "presion = np.zeros((len(lines),))\n",
    "\n",
    "#se crea una matriz de ceros de linesXheader-1\n",
    "raw_data = np.zeros((len(lines), len(header) - 1))\n",
    "\n",
    "#Aquí i representa el índice que va hasta el número de elemento de lines\n",
    "#Mientras que line representa el elemento la linea i de la misma lista lines\n",
    "for i, line in enumerate(lines):\n",
    "    values = [float(x) for x in line.split(\",\")[1:]] #aquí se leen solo los valores de las variables metereológicas (una fila por ciclo), separándolas por comas\n",
    "    temperature[i] = values[1] #Se guarda la temperatura que es el elemento 1 del vector de values\n",
    "    raw_data[i, :] = values[:] #Se cuarda la matriz de todas las variables metereológicas de cada momento\n",
    "    \n",
    "    \n",
    "for i, line in enumerate(lines):\n",
    "    values = [float(x) for x in line.split(\",\")[1:]] #aquí se leen solo los valores de las variables metereológicas (una fila por ciclo), separándolas por comas\n",
    "    presion[i] = values[0] #Se guarda la temperatura que es el elemento 1 del vector de values\n",
    "    raw_data[i, :] = values[:] #Se cuarda la matriz de todas las variables metereológicas de cada momento\n",
    "    "
   ]
  },
  {
   "cell_type": "code",
   "execution_count": 5,
   "id": "bb5a50f9",
   "metadata": {},
   "outputs": [
    {
     "data": {
      "text/plain": [
       "[<matplotlib.lines.Line2D at 0x2446ce61580>]"
      ]
     },
     "execution_count": 5,
     "metadata": {},
     "output_type": "execute_result"
    },
    {
     "data": {
      "image/png": "[encoded data removed]",
      "text/plain": [
       "<Figure size 432x288 with 1 Axes>"
      ]
     },
     "metadata": {
      "needs_background": "light"
     },
     "output_type": "display_data"
    }
   ],
   "source": [
    "#Se grafica la serie de tiempo de todas las temperaturas (datos tomados cada 10 minutos)\n",
    "\n",
    "from matplotlib import pyplot as plt\n",
    "\n",
    "plt.plot(range(len(temperature)), temperature)\n",
    "plt.plot(range(len(presion)), presion, color = 'red')"
   ]
  },
  {
   "cell_type": "markdown",
   "id": "307682c1",
   "metadata": {},
   "source": [
    "1) SE CONSTRUYEN LOS DATASETS"
   ]
  },
  {
   "cell_type": "code",
   "execution_count": 85,
   "id": "815b2cb2",
   "metadata": {},
   "outputs": [],
   "source": [
    "from tensorflow import keras\n",
    "import numpy as np\n",
    "\n",
    "\n",
    "#Aquí los datos se toman de 6 en 6, como cada dato de la temperatura es tomado cada 10 minutos, ahora será cada hora\n",
    "sampling_rate = 1 \n",
    "\n",
    "#El tamaño de la secuencia será de 4 días 96 hrs. (la ventana de observación)\n",
    "sequence_length = 96\n",
    "\n",
    "#Este es delay (la diferencia de los datos input con los target)\n",
    "delay = sampling_rate * (sequence_length + 10 - 1)\n",
    "\n",
    "#Se introduce el tamaño del batch  \n",
    "batch_size = 1000\n",
    "\n",
    "\n",
    "\n",
    "#Se crean las muestras para el entrenamiento, validación y el test\n",
    "num_train_samples = int(0.5 * len(raw_data))\n",
    "num_val_samples = int(0.25 * len(raw_data))\n",
    "num_test_samples = len(raw_data) - num_train_samples - num_val_samples\n",
    "\n",
    "train_dataset = keras.utils.timeseries_dataset_from_array(\n",
    "    raw_data[:-delay],\n",
    "    targets=temperature[delay:],\n",
    "    sampling_rate=sampling_rate,\n",
    "    sequence_length=sequence_length,\n",
    "    shuffle=True,\n",
    "    batch_size=batch_size,\n",
    "    start_index=0,\n",
    "    end_index=num_train_samples)\n",
    "\n",
    "val_dataset = keras.utils.timeseries_dataset_from_array(\n",
    "    raw_data[:-delay],\n",
    "    targets=temperature[delay:],\n",
    "    sampling_rate=sampling_rate,\n",
    "    sequence_length=sequence_length,\n",
    "    shuffle=True,\n",
    "    batch_size=batch_size,\n",
    "    start_index=num_train_samples,\n",
    "    end_index=num_train_samples + num_val_samples)\n",
    "\n",
    "test_dataset = keras.utils.timeseries_dataset_from_array(\n",
    "    raw_data[:-delay],\n",
    "    targets=temperature[delay:],\n",
    "    sampling_rate=sampling_rate,\n",
    "    sequence_length=sequence_length,\n",
    "    shuffle=True,\n",
    "    batch_size=batch_size,\n",
    "    start_index=num_train_samples + num_val_samples)"
   ]
  },
  {
   "cell_type": "code",
   "execution_count": 108,
   "id": "f3e518c0",
   "metadata": {},
   "outputs": [],
   "source": [
    "import pandas as pd\n",
    "\n",
    "traindat = pd.DataFrame(train_dataset)\n",
    "valdat = pd.DataFrame(val_dataset)\n",
    "testdat = pd.DataFrame(test_dataset)"
   ]
  },
  {
   "cell_type": "markdown",
   "id": "ae871faa",
   "metadata": {},
   "source": [
    "2) SE IMPLEMENTA EL MODELO"
   ]
  },
  {
   "cell_type": "code",
   "execution_count": 146,
   "id": "55c877bb",
   "metadata": {},
   "outputs": [
    {
     "name": "stdout",
     "output_type": "stream",
     "text": [
      "Model: \"sequential_64\"\n",
      "_________________________________________________________________\n",
      " Layer (type)                Output Shape              Param #   \n",
      "=================================================================\n",
      " lstm_60 (LSTM)              (None, 32)                6016      \n",
      "                                                                 \n",
      " dense_69 (Dense)            (None, 5)                 165       \n",
      "                                                                 \n",
      " dense_70 (Dense)            (None, 1)                 6         \n",
      "                                                                 \n",
      "=================================================================\n",
      "Total params: 6187 (24.17 KB)\n",
      "Trainable params: 6187 (24.17 KB)\n",
      "Non-trainable params: 0 (0.00 Byte)\n",
      "_________________________________________________________________\n"
     ]
    }
   ],
   "source": [
    "import tensorflow as tf\n",
    "from tensorflow.keras.models import Sequential\n",
    "from tensorflow.keras.layers import Dense, Dropout,Activation, LSTM, Conv1D\n",
    "from keras.callbacks import ModelCheckpoint\n",
    "\n",
    "\n",
    "#Se crea un modelo Long Short Term Memory\n",
    "model = Sequential()\n",
    "\n",
    "#Creamos una red LSTM con 16 bloques de memoria\n",
    "model.add(LSTM(32, batch_input_shape=(None,None,14)))\n",
    "model.add(Dense(5))\n",
    "model.add(Dense(1))\n",
    "\n",
    "model.summary()"
   ]
  },
  {
   "cell_type": "code",
   "execution_count": 88,
   "id": "87fa0e9b",
   "metadata": {},
   "outputs": [
    {
     "name": "stdout",
     "output_type": "stream",
     "text": [
      "Epoch 1/10\n",
      "211/211 [==============================] - 90s 417ms/step - loss: 2.8395 - mae: 1.2438 - val_loss: 2.2027 - val_mae: 1.1055\n",
      "Epoch 2/10\n",
      "211/211 [==============================] - 88s 417ms/step - loss: 2.6124 - mae: 1.1930 - val_loss: 2.2647 - val_mae: 1.0544\n",
      "Epoch 3/10\n",
      "211/211 [==============================] - 88s 415ms/step - loss: 2.6046 - mae: 1.1943 - val_loss: 2.9000 - val_mae: 1.4206\n",
      "Epoch 4/10\n",
      "211/211 [==============================] - 88s 417ms/step - loss: 2.5517 - mae: 1.1770 - val_loss: 2.1295 - val_mae: 1.0433\n",
      "Epoch 5/10\n",
      "211/211 [==============================] - 87s 414ms/step - loss: 2.5806 - mae: 1.1905 - val_loss: 2.3200 - val_mae: 1.1537\n",
      "Epoch 6/10\n",
      "211/211 [==============================] - 87s 411ms/step - loss: 2.5478 - mae: 1.1787 - val_loss: 2.6570 - val_mae: 1.3154\n",
      "Epoch 7/10\n",
      "211/211 [==============================] - 87s 413ms/step - loss: 2.5589 - mae: 1.1839 - val_loss: 2.2823 - val_mae: 1.0885\n",
      "Epoch 8/10\n",
      "211/211 [==============================] - 87s 412ms/step - loss: 2.5587 - mae: 1.1839 - val_loss: 2.4059 - val_mae: 1.0864\n",
      "Epoch 9/10\n",
      "211/211 [==============================] - 89s 422ms/step - loss: 2.5329 - mae: 1.1768 - val_loss: 2.1442 - val_mae: 1.0942\n",
      "Epoch 10/10\n",
      "211/211 [==============================] - 91s 430ms/step - loss: 2.5418 - mae: 1.1800 - val_loss: 2.1743 - val_mae: 1.1267\n",
      "105/105 [==============================] - 16s 148ms/step - loss: 2.4108 - mae: 1.1796\n",
      "LA MAE con los Datos Test: 1.18\n"
     ]
    }
   ],
   "source": [
    "#Compilamos y corremos el modelo usando como métrica el error cuadrático medio (que hay que disminuir)\n",
    "\n",
    "model.compile(optimizer=\"Adam\", loss=\"mse\", metrics=[\"mae\"])\n",
    "history = model.fit(train_dataset,\n",
    "        epochs=10,\n",
    "        validation_data = val_dataset)\n",
    "\n",
    "\n",
    "print(f\"LA MAE con los Datos Test: {model.evaluate(test_dataset)[1]:.2f}\")"
   ]
  },
  {
   "cell_type": "code",
   "execution_count": 89,
   "id": "ee7090b9",
   "metadata": {},
   "outputs": [
    {
     "data": {
      "image/png": "[encoded data removed]",
      "text/plain": [
       "<Figure size 432x288 with 1 Axes>"
      ]
     },
     "metadata": {
      "needs_background": "light"
     },
     "output_type": "display_data"
    }
   ],
   "source": [
    "import matplotlib.pyplot as plt\n",
    "loss = history.history[\"mae\"]\n",
    "val_loss = history.history[\"val_mae\"]\n",
    "epochs = range(1, len(loss) + 1)\n",
    "plt.figure()\n",
    "plt.plot(epochs, loss, \"bo\", label=\"Entrenamiento\")\n",
    "plt.plot(epochs, val_loss, \"b\", label=\"Validación\")\n",
    "plt.title(\"MAE: Entrenamiento y Validación\")\n",
    "plt.legend()\n",
    "plt.show()"
   ]
  },
  {
   "cell_type": "markdown",
   "id": "00fcae4a",
   "metadata": {},
   "source": [
    "3) Prueba ahora como datos de entrada las demás variables como presión y las demás."
   ]
  },
  {
   "cell_type": "code",
   "execution_count": 142,
   "id": "a0bb7e7c",
   "metadata": {},
   "outputs": [],
   "source": [
    "\n",
    "#Aquí los datos se toman de 6 en 6, como cada dato de la temperatura es tomado cada 10 minutos, ahora será cada hora\n",
    "sampling_rate = 1 \n",
    "\n",
    "#El tamaño de la secuencia será de 4 días 96 hrs. (la ventana de observación)\n",
    "sequence_length = 96\n",
    "\n",
    "#Este es delay (la diferencia de los datos input con los target)\n",
    "delay = sampling_rate * (sequence_length + 10 - 1)\n",
    "\n",
    "#Se introduce el tamaño del batch  \n",
    "batch_size = 1000\n",
    "\n",
    "\n",
    "\n",
    "#Se crean las muestras para el entrenamiento, validación y el test\n",
    "num_train_samples = int(0.5 * len(raw_data))\n",
    "num_val_samples = int(0.25 * len(raw_data))\n",
    "num_test_samples = len(raw_data) - num_train_samples - num_val_samples\n",
    "\n",
    "train_dataset = keras.utils.timeseries_dataset_from_array(\n",
    "    data = temperature[:-delay],\n",
    "    targets=temperature[delay:],\n",
    "    sampling_rate=sampling_rate,\n",
    "    sequence_length=sequence_length,\n",
    "    shuffle=True,\n",
    "    batch_size=batch_size,\n",
    "    start_index=0,\n",
    "    end_index=num_train_samples)\n",
    "\n",
    "val_dataset = keras.utils.timeseries_dataset_from_array(\n",
    "    data = temperature[:-delay],\n",
    "    targets=temperature[delay:],\n",
    "    sampling_rate=sampling_rate,\n",
    "    sequence_length=sequence_length,\n",
    "    shuffle=True,\n",
    "    batch_size=batch_size,\n",
    "    start_index=num_train_samples,\n",
    "    end_index=num_train_samples + num_val_samples)\n",
    "\n",
    "test_dataset = keras.utils.timeseries_dataset_from_array(\n",
    "    data = temperature[:-delay],\n",
    "    targets=temperature[delay:],\n",
    "    sampling_rate=sampling_rate,\n",
    "    sequence_length=sequence_length,\n",
    "    shuffle=True,\n",
    "    batch_size=batch_size,\n",
    "    start_index=num_train_samples + num_val_samples)"
   ]
  },
  {
   "cell_type": "code",
   "execution_count": 151,
   "id": "d61ec31c",
   "metadata": {},
   "outputs": [
    {
     "name": "stdout",
     "output_type": "stream",
     "text": [
      "Model: \"sequential_68\"\n",
      "_________________________________________________________________\n",
      " Layer (type)                Output Shape              Param #   \n",
      "=================================================================\n",
      " lstm_61 (LSTM)              (None, 32)                6016      \n",
      "                                                                 \n",
      " dense_73 (Dense)            (None, 5)                 165       \n",
      "                                                                 \n",
      " dense_74 (Dense)            (None, 1)                 6         \n",
      "                                                                 \n",
      "=================================================================\n",
      "Total params: 6187 (24.17 KB)\n",
      "Trainable params: 6187 (24.17 KB)\n",
      "Non-trainable params: 0 (0.00 Byte)\n",
      "_________________________________________________________________\n",
      "Epoch 1/10\n"
     ]
    },
    {
     "ename": "ValueError",
     "evalue": "in user code:\n\n    File \"C:\\g\\lib\\site-packages\\keras\\src\\engine\\training.py\", line 1338, in train_function  *\n        return step_function(self, iterator)\n    File \"C:\\g\\lib\\site-packages\\keras\\src\\engine\\training.py\", line 1322, in step_function  **\n        outputs = model.distribute_strategy.run(run_step, args=(data,))\n    File \"C:\\g\\lib\\site-packages\\keras\\src\\engine\\training.py\", line 1303, in run_step  **\n        outputs = model.train_step(data)\n    File \"C:\\g\\lib\\site-packages\\keras\\src\\engine\\training.py\", line 1080, in train_step\n        y_pred = self(x, training=True)\n    File \"C:\\g\\lib\\site-packages\\keras\\src\\utils\\traceback_utils.py\", line 70, in error_handler\n        raise e.with_traceback(filtered_tb) from None\n    File \"C:\\g\\lib\\site-packages\\keras\\src\\engine\\input_spec.py\", line 235, in assert_input_compatibility\n        raise ValueError(\n\n    ValueError: Exception encountered when calling layer 'sequential_68' (type Sequential).\n    \n    Input 0 of layer \"lstm_61\" is incompatible with the layer: expected ndim=3, found ndim=2. Full shape received: (None, None)\n    \n    Call arguments received by layer 'sequential_68' (type Sequential):\n      • inputs=tf.Tensor(shape=(None, None), dtype=float64)\n      • training=True\n      • mask=None\n",
     "output_type": "error",
     "traceback": [
      "\u001b[1;31m---------------------------------------------------------------------------\u001b[0m",
      "\u001b[1;31mValueError\u001b[0m                                Traceback (most recent call last)",
      "\u001b[1;32mC:\\Users\\VICTOR~1\\AppData\\Local\\Temp/ipykernel_912/36496656.py\u001b[0m in \u001b[0;36m<module>\u001b[1;34m\u001b[0m\n\u001b[0;32m     14\u001b[0m \u001b[1;33m\u001b[0m\u001b[0m\n\u001b[0;32m     15\u001b[0m \u001b[0mmodel2\u001b[0m\u001b[1;33m.\u001b[0m\u001b[0mcompile\u001b[0m\u001b[1;33m(\u001b[0m\u001b[0moptimizer\u001b[0m\u001b[1;33m=\u001b[0m\u001b[1;34m\"Adam\"\u001b[0m\u001b[1;33m,\u001b[0m \u001b[0mloss\u001b[0m\u001b[1;33m=\u001b[0m\u001b[1;34m\"mse\"\u001b[0m\u001b[1;33m,\u001b[0m \u001b[0mmetrics\u001b[0m\u001b[1;33m=\u001b[0m\u001b[1;33m[\u001b[0m\u001b[1;34m\"mae\"\u001b[0m\u001b[1;33m]\u001b[0m\u001b[1;33m)\u001b[0m\u001b[1;33m\u001b[0m\u001b[1;33m\u001b[0m\u001b[0m\n\u001b[1;32m---> 16\u001b[1;33m history = model2.fit(train_dataset,\n\u001b[0m\u001b[0;32m     17\u001b[0m         \u001b[0mepochs\u001b[0m\u001b[1;33m=\u001b[0m\u001b[1;36m10\u001b[0m\u001b[1;33m,\u001b[0m\u001b[1;33m\u001b[0m\u001b[1;33m\u001b[0m\u001b[0m\n\u001b[0;32m     18\u001b[0m         validation_data = val_dataset)\n",
      "\u001b[1;32mC:\\g\\lib\\site-packages\\keras\\src\\utils\\traceback_utils.py\u001b[0m in \u001b[0;36merror_handler\u001b[1;34m(*args, **kwargs)\u001b[0m\n\u001b[0;32m     68\u001b[0m             \u001b[1;31m# To get the full stack trace, call:\u001b[0m\u001b[1;33m\u001b[0m\u001b[1;33m\u001b[0m\u001b[0m\n\u001b[0;32m     69\u001b[0m             \u001b[1;31m# `tf.debugging.disable_traceback_filtering()`\u001b[0m\u001b[1;33m\u001b[0m\u001b[1;33m\u001b[0m\u001b[0m\n\u001b[1;32m---> 70\u001b[1;33m             \u001b[1;32mraise\u001b[0m \u001b[0me\u001b[0m\u001b[1;33m.\u001b[0m\u001b[0mwith_traceback\u001b[0m\u001b[1;33m(\u001b[0m\u001b[0mfiltered_tb\u001b[0m\u001b[1;33m)\u001b[0m \u001b[1;32mfrom\u001b[0m \u001b[1;32mNone\u001b[0m\u001b[1;33m\u001b[0m\u001b[1;33m\u001b[0m\u001b[0m\n\u001b[0m\u001b[0;32m     71\u001b[0m         \u001b[1;32mfinally\u001b[0m\u001b[1;33m:\u001b[0m\u001b[1;33m\u001b[0m\u001b[1;33m\u001b[0m\u001b[0m\n\u001b[0;32m     72\u001b[0m             \u001b[1;32mdel\u001b[0m \u001b[0mfiltered_tb\u001b[0m\u001b[1;33m\u001b[0m\u001b[1;33m\u001b[0m\u001b[0m\n",
      "\u001b[1;32mC:\\g\\lib\\site-packages\\keras\\src\\engine\\training.py\u001b[0m in \u001b[0;36mtf__train_function\u001b[1;34m(iterator)\u001b[0m\n\u001b[0;32m     13\u001b[0m                 \u001b[1;32mtry\u001b[0m\u001b[1;33m:\u001b[0m\u001b[1;33m\u001b[0m\u001b[1;33m\u001b[0m\u001b[0m\n\u001b[0;32m     14\u001b[0m                     \u001b[0mdo_return\u001b[0m \u001b[1;33m=\u001b[0m \u001b[1;32mTrue\u001b[0m\u001b[1;33m\u001b[0m\u001b[1;33m\u001b[0m\u001b[0m\n\u001b[1;32m---> 15\u001b[1;33m                     \u001b[0mretval_\u001b[0m \u001b[1;33m=\u001b[0m \u001b[0mag__\u001b[0m\u001b[1;33m.\u001b[0m\u001b[0mconverted_call\u001b[0m\u001b[1;33m(\u001b[0m\u001b[0mag__\u001b[0m\u001b[1;33m.\u001b[0m\u001b[0mld\u001b[0m\u001b[1;33m(\u001b[0m\u001b[0mstep_function\u001b[0m\u001b[1;33m)\u001b[0m\u001b[1;33m,\u001b[0m \u001b[1;33m(\u001b[0m\u001b[0mag__\u001b[0m\u001b[1;33m.\u001b[0m\u001b[0mld\u001b[0m\u001b[1;33m(\u001b[0m\u001b[0mself\u001b[0m\u001b[1;33m)\u001b[0m\u001b[1;33m,\u001b[0m \u001b[0mag__\u001b[0m\u001b[1;33m.\u001b[0m\u001b[0mld\u001b[0m\u001b[1;33m(\u001b[0m\u001b[0miterator\u001b[0m\u001b[1;33m)\u001b[0m\u001b[1;33m)\u001b[0m\u001b[1;33m,\u001b[0m \u001b[1;32mNone\u001b[0m\u001b[1;33m,\u001b[0m \u001b[0mfscope\u001b[0m\u001b[1;33m)\u001b[0m\u001b[1;33m\u001b[0m\u001b[1;33m\u001b[0m\u001b[0m\n\u001b[0m\u001b[0;32m     16\u001b[0m                 \u001b[1;32mexcept\u001b[0m\u001b[1;33m:\u001b[0m\u001b[1;33m\u001b[0m\u001b[1;33m\u001b[0m\u001b[0m\n\u001b[0;32m     17\u001b[0m                     \u001b[0mdo_return\u001b[0m \u001b[1;33m=\u001b[0m \u001b[1;32mFalse\u001b[0m\u001b[1;33m\u001b[0m\u001b[1;33m\u001b[0m\u001b[0m\n",
      "\u001b[1;31mValueError\u001b[0m: in user code:\n\n    File \"C:\\g\\lib\\site-packages\\keras\\src\\engine\\training.py\", line 1338, in train_function  *\n        return step_function(self, iterator)\n    File \"C:\\g\\lib\\site-packages\\keras\\src\\engine\\training.py\", line 1322, in step_function  **\n        outputs = model.distribute_strategy.run(run_step, args=(data,))\n    File \"C:\\g\\lib\\site-packages\\keras\\src\\engine\\training.py\", line 1303, in run_step  **\n        outputs = model.train_step(data)\n    File \"C:\\g\\lib\\site-packages\\keras\\src\\engine\\training.py\", line 1080, in train_step\n        y_pred = self(x, training=True)\n    File \"C:\\g\\lib\\site-packages\\keras\\src\\utils\\traceback_utils.py\", line 70, in error_handler\n        raise e.with_traceback(filtered_tb) from None\n    File \"C:\\g\\lib\\site-packages\\keras\\src\\engine\\input_spec.py\", line 235, in assert_input_compatibility\n        raise ValueError(\n\n    ValueError: Exception encountered when calling layer 'sequential_68' (type Sequential).\n    \n    Input 0 of layer \"lstm_61\" is incompatible with the layer: expected ndim=3, found ndim=2. Full shape received: (None, None)\n    \n    Call arguments received by layer 'sequential_68' (type Sequential):\n      • inputs=tf.Tensor(shape=(None, None), dtype=float64)\n      • training=True\n      • mask=None\n"
     ]
    }
   ],
   "source": [
    "#Se crea un modelo Long Short Term Memory\n",
    "\n",
    "#inputs = keras.Input(shape=(sequence_length, temperature.shape))\n",
    "model2 = Sequential()\n",
    "\n",
    "#Creamos una red LSTM con 16 bloques de memoria\n",
    "model2.add(LSTM(32, batch_input_shape=(None,None,14)))\n",
    "model2.add(Dense(5))\n",
    "model2.add(Dense(1))\n",
    "\n",
    "model2.summary()\n",
    "\n",
    "#Compilamos y corremos el modelo usando como métrica el error cuadrático medio (que hay que disminuir)\n",
    "\n",
    "model2.compile(optimizer=\"Adam\", loss=\"mse\", metrics=[\"mae\"])\n",
    "history = model2.fit(train_dataset,\n",
    "        epochs=10,\n",
    "        validation_data = val_dataset)\n",
    "\n",
    "\n",
    "print(f\"LA MAE con los Datos Test: {model.evaluate(test_dataset)[1]:.2f}\")"
   ]
  },
  {
   "cell_type": "code",
   "execution_count": 164,
   "id": "4f40706d",
   "metadata": {},
   "outputs": [
    {
     "ename": "TypeError",
     "evalue": "'_BatchDataset' object is not subscriptable",
     "output_type": "error",
     "traceback": [
      "\u001b[1;31m---------------------------------------------------------------------------\u001b[0m",
      "\u001b[1;31mTypeError\u001b[0m                                 Traceback (most recent call last)",
      "\u001b[1;32mC:\\Users\\VICTOR~1\\AppData\\Local\\Temp/ipykernel_912/3261817443.py\u001b[0m in \u001b[0;36m<module>\u001b[1;34m\u001b[0m\n\u001b[1;32m----> 1\u001b[1;33m \u001b[0mprint\u001b[0m\u001b[1;33m(\u001b[0m\u001b[0mtrain_dataset\u001b[0m\u001b[1;33m[\u001b[0m\u001b[1;36m1\u001b[0m\u001b[1;33m,\u001b[0m\u001b[1;36m1\u001b[0m\u001b[1;33m]\u001b[0m\u001b[1;33m)\u001b[0m\u001b[1;33m\u001b[0m\u001b[1;33m\u001b[0m\u001b[0m\n\u001b[0m",
      "\u001b[1;31mTypeError\u001b[0m: '_BatchDataset' object is not subscriptable"
     ]
    }
   ],
   "source": []
  },
  {
   "cell_type": "code",
   "execution_count": null,
   "id": "12b19763",
   "metadata": {},
   "outputs": [],
   "source": []
  }
 ],
 "metadata": {
  "kernelspec": {
   "display_name": "Python 3 (ipykernel)",
   "language": "python",
   "name": "python3"
  },
  "language_info": {
   "codemirror_mode": {
    "name": "ipython",
    "version": 3
   },
   "file_extension": ".py",
   "mimetype": "text/x-python",
   "name": "python",
   "nbconvert_exporter": "python",
   "pygments_lexer": "ipython3",
   "version": "3.9.7"
  }
 },
 "nbformat": 4,
 "nbformat_minor": 5
}
